{
  "nbformat": 4,
  "nbformat_minor": 0,
  "metadata": {
    "colab": {
      "provenance": []
    },
    "kernelspec": {
      "name": "python3",
      "display_name": "Python 3"
    },
    "language_info": {
      "name": "python"
    }
  },
  "cells": [
    {
      "cell_type": "markdown",
      "source": [
        "***TITANIC QUIZ***"
      ],
      "metadata": {
        "id": "Y9_qJ8p64hTq"
      }
    },
    {
      "cell_type": "code",
      "execution_count": null,
      "metadata": {
        "id": "WcxEDSrfbu_K"
      },
      "outputs": [],
      "source": [
        "# import numpy and pandas\n",
        "import numpy as np\n",
        "import pandas as pd\n",
        "import math"
      ]
    },
    {
      "cell_type": "code",
      "source": [
        "# import csv file\n",
        "titanic = pd.read_csv('/content/train.csv')"
      ],
      "metadata": {
        "id": "GI0eUtivd6bF"
      },
      "execution_count": null,
      "outputs": []
    },
    {
      "cell_type": "code",
      "source": [
        "# titanic.groupby('Embarked')['Fare'].mean()"
      ],
      "metadata": {
        "colab": {
          "base_uri": "https://localhost:8080/",
          "height": 210
        },
        "id": "oT8ssUf75nWQ",
        "outputId": "d07a3c83-9a04-4ef0-94c7-7ffdbfdcacee"
      },
      "execution_count": null,
      "outputs": [
        {
          "output_type": "execute_result",
          "data": {
            "text/plain": [
              "Embarked\n",
              "C    59.954144\n",
              "Q    13.276030\n",
              "S    27.079812\n",
              "Name: Fare, dtype: float64"
            ],
            "text/html": [
              "<table border=\"1\" class=\"dataframe\">\n",
              "  <thead>\n",
              "    <tr style=\"text-align: right;\">\n",
              "      <th></th>\n",
              "      <th>Fare</th>\n",
              "    </tr>\n",
              "    <tr>\n",
              "      <th>Embarked</th>\n",
              "      <th></th>\n",
              "    </tr>\n",
              "  </thead>\n",
              "  <tbody>\n",
              "    <tr>\n",
              "      <th>C</th>\n",
              "      <td>59.954144</td>\n",
              "    </tr>\n",
              "    <tr>\n",
              "      <th>Q</th>\n",
              "      <td>13.276030</td>\n",
              "    </tr>\n",
              "    <tr>\n",
              "      <th>S</th>\n",
              "      <td>27.079812</td>\n",
              "    </tr>\n",
              "  </tbody>\n",
              "</table><br><label><b>dtype:</b> float64</label>"
            ]
          },
          "metadata": {},
          "execution_count": 277
        }
      ]
    },
    {
      "cell_type": "code",
      "source": [
        "#titanic.info()"
      ],
      "metadata": {
        "id": "f1AH3pIV8-IV"
      },
      "execution_count": null,
      "outputs": []
    },
    {
      "cell_type": "markdown",
      "source": [
        "Q1. Extract the titles (Mr., Mrs., Miss, etc.) from the names of passengers. What is the most common title?  "
      ],
      "metadata": {
        "id": "G5bF-UT687mf"
      }
    },
    {
      "cell_type": "code",
      "source": [
        "# split on basis of spaces and extract just titles\n",
        "titanic['title'] = titanic['Name'].str.split(' ').str[1]\n",
        "\n",
        "# groupby and count\n",
        "titanic.groupby('title')['PassengerId'].count().sort_values(ascending=False).head(1)"
      ],
      "metadata": {
        "colab": {
          "base_uri": "https://localhost:8080/",
          "height": 147
        },
        "id": "_VNE_Z_S9A8o",
        "outputId": "88c3c48f-f41e-432a-b133-6d6b2a6b50ef"
      },
      "execution_count": null,
      "outputs": [
        {
          "output_type": "execute_result",
          "data": {
            "text/plain": [
              "title\n",
              "Mr.    502\n",
              "Name: PassengerId, dtype: int64"
            ],
            "text/html": [
              "<table border=\"1\" class=\"dataframe\">\n",
              "  <thead>\n",
              "    <tr style=\"text-align: right;\">\n",
              "      <th></th>\n",
              "      <th>PassengerId</th>\n",
              "    </tr>\n",
              "    <tr>\n",
              "      <th>title</th>\n",
              "      <th></th>\n",
              "    </tr>\n",
              "  </thead>\n",
              "  <tbody>\n",
              "    <tr>\n",
              "      <th>Mr.</th>\n",
              "      <td>502</td>\n",
              "    </tr>\n",
              "  </tbody>\n",
              "</table><br><label><b>dtype:</b> int64</label>"
            ]
          },
          "metadata": {},
          "execution_count": 270
        }
      ]
    },
    {
      "cell_type": "code",
      "source": [
        "# titanic['title']"
      ],
      "metadata": {
        "id": "UnIVF74j_RB-"
      },
      "execution_count": null,
      "outputs": []
    },
    {
      "cell_type": "markdown",
      "source": [
        "Q2. Count the number of unique ticket prefixes in the Ticket column. What is the most common ticket prefix?  "
      ],
      "metadata": {
        "id": "QqYgMI22_PrM"
      }
    },
    {
      "cell_type": "code",
      "source": [
        "# using str.split\n",
        "titanic['Ticket'].str.split(' ').str[0].value_counts().head(1)"
      ],
      "metadata": {
        "colab": {
          "base_uri": "https://localhost:8080/",
          "height": 147
        },
        "id": "GpPy92EG_P7u",
        "outputId": "f9ffcfc8-1efa-43ec-d9e0-c36944224295"
      },
      "execution_count": null,
      "outputs": [
        {
          "output_type": "execute_result",
          "data": {
            "text/plain": [
              "Ticket\n",
              "PC    60\n",
              "Name: count, dtype: int64"
            ],
            "text/html": [
              "<table border=\"1\" class=\"dataframe\">\n",
              "  <thead>\n",
              "    <tr style=\"text-align: right;\">\n",
              "      <th></th>\n",
              "      <th>count</th>\n",
              "    </tr>\n",
              "    <tr>\n",
              "      <th>Ticket</th>\n",
              "      <th></th>\n",
              "    </tr>\n",
              "  </thead>\n",
              "  <tbody>\n",
              "    <tr>\n",
              "      <th>PC</th>\n",
              "      <td>60</td>\n",
              "    </tr>\n",
              "  </tbody>\n",
              "</table><br><label><b>dtype:</b> int64</label>"
            ]
          },
          "metadata": {},
          "execution_count": 272
        }
      ]
    },
    {
      "cell_type": "code",
      "source": [],
      "metadata": {
        "id": "wGfDfdYSBIbI"
      },
      "execution_count": null,
      "outputs": []
    },
    {
      "cell_type": "markdown",
      "source": [
        "Q3. Identify passengers with multiple cabins. What proportion of passengers had multiple cabins?  "
      ],
      "metadata": {
        "id": "DCfdfjrYBIo5"
      }
    },
    {
      "cell_type": "code",
      "source": [
        "# *** DOUBT : VISIT AGAIN ***\n",
        "\n",
        "titanic['new_cabin'] = titanic['Cabin'].str.split(' ').str.len()\n",
        "df = titanic[titanic['new_cabin'] > 1].count() # 24 passengers with multiple cabins\n",
        "df.iloc[0]\n",
        "# titanic['new_cabin']\n",
        "\n",
        "# number of passengers:\n",
        "num_pass = df.iloc[0]\n",
        "\n",
        "# total passengers\n",
        "total_pass = titanic['PassengerId'].count()\n",
        "\n",
        "# proportion of passengers with multiple cabins:\n",
        "print(\"The proportion of passengers with multiple cabins : \",(num_pass/total_pass))\n"
      ],
      "metadata": {
        "colab": {
          "base_uri": "https://localhost:8080/"
        },
        "id": "DhtvKBUFBI1T",
        "outputId": "c708e2f6-594b-4804-a868-97602ba74a95"
      },
      "execution_count": null,
      "outputs": [
        {
          "output_type": "stream",
          "name": "stdout",
          "text": [
            "The proportion of passengers with multiple cabins :  0.026936026936026935\n"
          ]
        }
      ]
    },
    {
      "cell_type": "code",
      "source": [],
      "metadata": {
        "id": "DK6DcX1gH7nm"
      },
      "execution_count": null,
      "outputs": []
    },
    {
      "cell_type": "markdown",
      "source": [
        "Q4. Calculate the average fare paid by passengers from each embarkation point. What is the average fare from 'S' (Southampton)?"
      ],
      "metadata": {
        "id": "ZCrqC-58H71m"
      }
    },
    {
      "cell_type": "code",
      "source": [
        "titanic.groupby('Embarked')['Fare'].mean()"
      ],
      "metadata": {
        "colab": {
          "base_uri": "https://localhost:8080/",
          "height": 210
        },
        "id": "gO5Jo63AH8CV",
        "outputId": "533a39a7-ec4f-4465-f2f1-5a4fcd58d928"
      },
      "execution_count": null,
      "outputs": [
        {
          "output_type": "execute_result",
          "data": {
            "text/plain": [
              "Embarked\n",
              "C    59.954144\n",
              "Q    13.276030\n",
              "S    27.079812\n",
              "Name: Fare, dtype: float64"
            ],
            "text/html": [
              "<table border=\"1\" class=\"dataframe\">\n",
              "  <thead>\n",
              "    <tr style=\"text-align: right;\">\n",
              "      <th></th>\n",
              "      <th>Fare</th>\n",
              "    </tr>\n",
              "    <tr>\n",
              "      <th>Embarked</th>\n",
              "      <th></th>\n",
              "    </tr>\n",
              "  </thead>\n",
              "  <tbody>\n",
              "    <tr>\n",
              "      <th>C</th>\n",
              "      <td>59.954144</td>\n",
              "    </tr>\n",
              "    <tr>\n",
              "      <th>Q</th>\n",
              "      <td>13.276030</td>\n",
              "    </tr>\n",
              "    <tr>\n",
              "      <th>S</th>\n",
              "      <td>27.079812</td>\n",
              "    </tr>\n",
              "  </tbody>\n",
              "</table><br><label><b>dtype:</b> float64</label>"
            ]
          },
          "metadata": {},
          "execution_count": 278
        }
      ]
    },
    {
      "cell_type": "code",
      "source": [
        "#titanic.info()"
      ],
      "metadata": {
        "id": "2XslAHHZIhz9"
      },
      "execution_count": null,
      "outputs": []
    },
    {
      "cell_type": "markdown",
      "source": [
        "Q5. Check if any passengers have the same last name. What is the most common last name?"
      ],
      "metadata": {
        "id": "Y8_F5f8gIiOM"
      }
    },
    {
      "cell_type": "code",
      "source": [
        "titanic['last_name'] = titanic['Name'].str.split(' ').str[0]\n",
        "titanic.groupby('last_name')['PassengerId'].count().sort_values(ascending=False).head(1)"
      ],
      "metadata": {
        "colab": {
          "base_uri": "https://localhost:8080/",
          "height": 147
        },
        "id": "w9sEOltjIijY",
        "outputId": "80a71ade-4e8c-43eb-f83c-51730afda36b"
      },
      "execution_count": null,
      "outputs": [
        {
          "output_type": "execute_result",
          "data": {
            "text/plain": [
              "last_name\n",
              "Andersson,    9\n",
              "Name: PassengerId, dtype: int64"
            ],
            "text/html": [
              "<table border=\"1\" class=\"dataframe\">\n",
              "  <thead>\n",
              "    <tr style=\"text-align: right;\">\n",
              "      <th></th>\n",
              "      <th>PassengerId</th>\n",
              "    </tr>\n",
              "    <tr>\n",
              "      <th>last_name</th>\n",
              "      <th></th>\n",
              "    </tr>\n",
              "  </thead>\n",
              "  <tbody>\n",
              "    <tr>\n",
              "      <th>Andersson,</th>\n",
              "      <td>9</td>\n",
              "    </tr>\n",
              "  </tbody>\n",
              "</table><br><label><b>dtype:</b> int64</label>"
            ]
          },
          "metadata": {},
          "execution_count": 279
        }
      ]
    },
    {
      "cell_type": "code",
      "source": [
        "# titanic['Name']"
      ],
      "metadata": {
        "id": "qtfnWmmxJvKC"
      },
      "execution_count": null,
      "outputs": []
    },
    {
      "cell_type": "markdown",
      "source": [
        "Q6. Identify passengers with first names that start with 'A'. How many passengers have first names starting with 'A'?  "
      ],
      "metadata": {
        "id": "ybySX4xxJvYC"
      }
    },
    {
      "cell_type": "code",
      "source": [
        "#  *** DOUBT : VISIT AGAIN ***\n",
        "\n",
        "# extract first name using split\n",
        "titanic['first_name'] = titanic['Name'].str.split(' ').str[2]\n",
        "\n",
        "titanic['first_name_letter'] = titanic['first_name'].apply(lambda x : x[1] if (x[0]=='(' or x[0]=='\"') else x[0])\n",
        "\n",
        "ans = titanic[titanic['first_name_letter']=='A'].count().iloc[0]\n",
        "\n",
        "print(ans)"
      ],
      "metadata": {
        "colab": {
          "base_uri": "https://localhost:8080/"
        },
        "id": "qnm0_1HOJvju",
        "outputId": "c4aa71d3-aca8-49ee-ba1f-bd300c62d91d"
      },
      "execution_count": null,
      "outputs": [
        {
          "output_type": "stream",
          "name": "stdout",
          "text": [
            "93\n"
          ]
        }
      ]
    },
    {
      "cell_type": "code",
      "source": [
        "# titanic.groupby('Survived')['PassengerId'].count()"
      ],
      "metadata": {
        "id": "kLTJKIimPW8r"
      },
      "execution_count": null,
      "outputs": []
    },
    {
      "cell_type": "markdown",
      "source": [
        "Q7. Calculate the proportion of passengers who survived based on their title. What is the avg survival rate for passengers with the title 'Mr'?"
      ],
      "metadata": {
        "id": "nmmWIj5sPXKu"
      }
    },
    {
      "cell_type": "code",
      "source": [
        "# proportion of passengers who survived based on their title\n",
        "titanic[titanic['Survived'] == 1].groupby('title')['Survived'].count().sort_values(ascending=False)\n"
      ],
      "metadata": {
        "colab": {
          "base_uri": "https://localhost:8080/",
          "height": 586
        },
        "id": "UIfMTPbKPXVu",
        "outputId": "b327f009-5fd2-45b3-af52-6690ae0a83fe"
      },
      "execution_count": null,
      "outputs": [
        {
          "output_type": "execute_result",
          "data": {
            "text/plain": [
              "title\n",
              "Miss.           126\n",
              "Mrs.             97\n",
              "Mr.              79\n",
              "Master.          23\n",
              "Dr.               3\n",
              "y                 3\n",
              "Gordon,           2\n",
              "Mlle.             2\n",
              "Col.              1\n",
              "Major.            1\n",
              "Messemaeker,      1\n",
              "Mme.              1\n",
              "Ms.               1\n",
              "Mulder,           1\n",
              "the               1\n",
              "Name: Survived, dtype: int64"
            ],
            "text/html": [
              "<table border=\"1\" class=\"dataframe\">\n",
              "  <thead>\n",
              "    <tr style=\"text-align: right;\">\n",
              "      <th></th>\n",
              "      <th>Survived</th>\n",
              "    </tr>\n",
              "    <tr>\n",
              "      <th>title</th>\n",
              "      <th></th>\n",
              "    </tr>\n",
              "  </thead>\n",
              "  <tbody>\n",
              "    <tr>\n",
              "      <th>Miss.</th>\n",
              "      <td>126</td>\n",
              "    </tr>\n",
              "    <tr>\n",
              "      <th>Mrs.</th>\n",
              "      <td>97</td>\n",
              "    </tr>\n",
              "    <tr>\n",
              "      <th>Mr.</th>\n",
              "      <td>79</td>\n",
              "    </tr>\n",
              "    <tr>\n",
              "      <th>Master.</th>\n",
              "      <td>23</td>\n",
              "    </tr>\n",
              "    <tr>\n",
              "      <th>Dr.</th>\n",
              "      <td>3</td>\n",
              "    </tr>\n",
              "    <tr>\n",
              "      <th>y</th>\n",
              "      <td>3</td>\n",
              "    </tr>\n",
              "    <tr>\n",
              "      <th>Gordon,</th>\n",
              "      <td>2</td>\n",
              "    </tr>\n",
              "    <tr>\n",
              "      <th>Mlle.</th>\n",
              "      <td>2</td>\n",
              "    </tr>\n",
              "    <tr>\n",
              "      <th>Col.</th>\n",
              "      <td>1</td>\n",
              "    </tr>\n",
              "    <tr>\n",
              "      <th>Major.</th>\n",
              "      <td>1</td>\n",
              "    </tr>\n",
              "    <tr>\n",
              "      <th>Messemaeker,</th>\n",
              "      <td>1</td>\n",
              "    </tr>\n",
              "    <tr>\n",
              "      <th>Mme.</th>\n",
              "      <td>1</td>\n",
              "    </tr>\n",
              "    <tr>\n",
              "      <th>Ms.</th>\n",
              "      <td>1</td>\n",
              "    </tr>\n",
              "    <tr>\n",
              "      <th>Mulder,</th>\n",
              "      <td>1</td>\n",
              "    </tr>\n",
              "    <tr>\n",
              "      <th>the</th>\n",
              "      <td>1</td>\n",
              "    </tr>\n",
              "  </tbody>\n",
              "</table><br><label><b>dtype:</b> int64</label>"
            ]
          },
          "metadata": {},
          "execution_count": 330
        }
      ]
    },
    {
      "cell_type": "code",
      "source": [
        "# What is the avg survival rate for passengers with the title 'Mr'?\n",
        "\n",
        "# survived passengers with title == 'Mr'  hint: extracting survival based on title into new dataframe\n",
        "new_df = titanic[titanic['Survived']==1].groupby('title')['Survived'].count().sort_values(ascending=False)\n",
        "sur_Mr = new_df.loc['Mr.']\n",
        "total_Mr = titanic[titanic['title']=='Mr.'].count().iloc[0]\n",
        "\n",
        "print('Avg survival rate for passengers with the title Mister : ',sur_Mr/total_Mr)"
      ],
      "metadata": {
        "colab": {
          "base_uri": "https://localhost:8080/"
        },
        "id": "lHzjKJmgTTWk",
        "outputId": "3461b0f8-80f8-4571-ca4d-bc6c0cefda63"
      },
      "execution_count": null,
      "outputs": [
        {
          "output_type": "stream",
          "name": "stdout",
          "text": [
            "Avg survival rate for passengers with the title Mister :  0.15737051792828685\n"
          ]
        }
      ]
    },
    {
      "cell_type": "code",
      "source": [],
      "metadata": {
        "id": "2O-84aOlWsbs"
      },
      "execution_count": null,
      "outputs": []
    },
    {
      "cell_type": "markdown",
      "source": [
        "Q8. Find the most frequent first letter of passengers' last names. What is the most common first letter?"
      ],
      "metadata": {
        "id": "4Mqd7SIWWspB"
      }
    },
    {
      "cell_type": "code",
      "source": [
        "# most frequent first letter of passengers' last names\n",
        "titanic['last_name'].str[0].value_counts().head()"
      ],
      "metadata": {
        "colab": {
          "base_uri": "https://localhost:8080/",
          "height": 272
        },
        "id": "KgHhOCfLWs1f",
        "outputId": "9966e6ee-fcf6-4640-c442-2c1d80fcbb49"
      },
      "execution_count": null,
      "outputs": [
        {
          "output_type": "execute_result",
          "data": {
            "text/plain": [
              "last_name\n",
              "S    86\n",
              "M    74\n",
              "B    72\n",
              "H    69\n",
              "C    69\n",
              "Name: count, dtype: int64"
            ],
            "text/html": [
              "<table border=\"1\" class=\"dataframe\">\n",
              "  <thead>\n",
              "    <tr style=\"text-align: right;\">\n",
              "      <th></th>\n",
              "      <th>count</th>\n",
              "    </tr>\n",
              "    <tr>\n",
              "      <th>last_name</th>\n",
              "      <th></th>\n",
              "    </tr>\n",
              "  </thead>\n",
              "  <tbody>\n",
              "    <tr>\n",
              "      <th>S</th>\n",
              "      <td>86</td>\n",
              "    </tr>\n",
              "    <tr>\n",
              "      <th>M</th>\n",
              "      <td>74</td>\n",
              "    </tr>\n",
              "    <tr>\n",
              "      <th>B</th>\n",
              "      <td>72</td>\n",
              "    </tr>\n",
              "    <tr>\n",
              "      <th>H</th>\n",
              "      <td>69</td>\n",
              "    </tr>\n",
              "    <tr>\n",
              "      <th>C</th>\n",
              "      <td>69</td>\n",
              "    </tr>\n",
              "  </tbody>\n",
              "</table><br><label><b>dtype:</b> int64</label>"
            ]
          },
          "metadata": {},
          "execution_count": 180
        }
      ]
    },
    {
      "cell_type": "code",
      "source": [
        "# What is the most common first letter?\n",
        "titanic['last_name'].str[0].value_counts().head(1)"
      ],
      "metadata": {
        "colab": {
          "base_uri": "https://localhost:8080/",
          "height": 147
        },
        "id": "N-PBAyNmXJ06",
        "outputId": "92035df7-272a-482d-f64a-36dd33bef78f"
      },
      "execution_count": null,
      "outputs": [
        {
          "output_type": "execute_result",
          "data": {
            "text/plain": [
              "last_name\n",
              "S    86\n",
              "Name: count, dtype: int64"
            ],
            "text/html": [
              "<table border=\"1\" class=\"dataframe\">\n",
              "  <thead>\n",
              "    <tr style=\"text-align: right;\">\n",
              "      <th></th>\n",
              "      <th>count</th>\n",
              "    </tr>\n",
              "    <tr>\n",
              "      <th>last_name</th>\n",
              "      <th></th>\n",
              "    </tr>\n",
              "  </thead>\n",
              "  <tbody>\n",
              "    <tr>\n",
              "      <th>S</th>\n",
              "      <td>86</td>\n",
              "    </tr>\n",
              "  </tbody>\n",
              "</table><br><label><b>dtype:</b> int64</label>"
            ]
          },
          "metadata": {},
          "execution_count": 181
        }
      ]
    },
    {
      "cell_type": "code",
      "source": [],
      "metadata": {
        "id": "8qYWTOLJXe95"
      },
      "execution_count": null,
      "outputs": []
    },
    {
      "cell_type": "markdown",
      "source": [
        "Q9. Create a new column 'FamilySize' based on the number of siblings/spouses[SibSp] and parents/children['Parch'] aboard. What is the average family size?"
      ],
      "metadata": {
        "id": "9qwgIJjCXfUv"
      }
    },
    {
      "cell_type": "code",
      "source": [
        "# Family Size = addition of siblings + spouses + parents + children of passenger and passenger himself/herself.\n",
        "\n",
        "titanic['FamilySize'] = titanic['SibSp'] + titanic['Parch'] + 1"
      ],
      "metadata": {
        "id": "ngHdEJ_DXfsx"
      },
      "execution_count": null,
      "outputs": []
    },
    {
      "cell_type": "code",
      "source": [
        "# What is the average family size?\n",
        "\n",
        "titanic['FamilySize'].mean()"
      ],
      "metadata": {
        "colab": {
          "base_uri": "https://localhost:8080/"
        },
        "id": "9AOUyyKEXJ_P",
        "outputId": "21854b4d-3fc3-4f35-88d5-487a0c32ca7d"
      },
      "execution_count": null,
      "outputs": [
        {
          "output_type": "execute_result",
          "data": {
            "text/plain": [
              "1.904601571268238"
            ]
          },
          "metadata": {},
          "execution_count": 308
        }
      ]
    },
    {
      "cell_type": "code",
      "source": [],
      "metadata": {
        "id": "Ktg12VbVZ69W"
      },
      "execution_count": null,
      "outputs": []
    },
    {
      "cell_type": "markdown",
      "source": [
        "Q10. Find the most common cabin deck based on the Cabin column. Which deck is the most common?  "
      ],
      "metadata": {
        "id": "Aw8EFviaZ7KW"
      }
    },
    {
      "cell_type": "code",
      "source": [
        "# titanic.groupby('Cabin')['PassengerId'].count().sort_values(ascending=False)\n",
        "titanic['cabin_group'] = titanic['Cabin'].str[0]\n",
        "titanic.groupby('cabin_group')['PassengerId'].count().sort_values(ascending=False)"
      ],
      "metadata": {
        "colab": {
          "base_uri": "https://localhost:8080/",
          "height": 366
        },
        "id": "Dr-ikVs6Z7WP",
        "outputId": "11f40cf2-fc7e-476d-937a-16943e00b7b5"
      },
      "execution_count": null,
      "outputs": [
        {
          "output_type": "execute_result",
          "data": {
            "text/plain": [
              "cabin_group\n",
              "C    59\n",
              "B    47\n",
              "D    33\n",
              "E    32\n",
              "A    15\n",
              "F    13\n",
              "G     4\n",
              "T     1\n",
              "Name: PassengerId, dtype: int64"
            ],
            "text/html": [
              "<table border=\"1\" class=\"dataframe\">\n",
              "  <thead>\n",
              "    <tr style=\"text-align: right;\">\n",
              "      <th></th>\n",
              "      <th>PassengerId</th>\n",
              "    </tr>\n",
              "    <tr>\n",
              "      <th>cabin_group</th>\n",
              "      <th></th>\n",
              "    </tr>\n",
              "  </thead>\n",
              "  <tbody>\n",
              "    <tr>\n",
              "      <th>C</th>\n",
              "      <td>59</td>\n",
              "    </tr>\n",
              "    <tr>\n",
              "      <th>B</th>\n",
              "      <td>47</td>\n",
              "    </tr>\n",
              "    <tr>\n",
              "      <th>D</th>\n",
              "      <td>33</td>\n",
              "    </tr>\n",
              "    <tr>\n",
              "      <th>E</th>\n",
              "      <td>32</td>\n",
              "    </tr>\n",
              "    <tr>\n",
              "      <th>A</th>\n",
              "      <td>15</td>\n",
              "    </tr>\n",
              "    <tr>\n",
              "      <th>F</th>\n",
              "      <td>13</td>\n",
              "    </tr>\n",
              "    <tr>\n",
              "      <th>G</th>\n",
              "      <td>4</td>\n",
              "    </tr>\n",
              "    <tr>\n",
              "      <th>T</th>\n",
              "      <td>1</td>\n",
              "    </tr>\n",
              "  </tbody>\n",
              "</table><br><label><b>dtype:</b> int64</label>"
            ]
          },
          "metadata": {},
          "execution_count": 300
        }
      ]
    },
    {
      "cell_type": "code",
      "source": [],
      "metadata": {
        "id": "_y8S948ZXKDq"
      },
      "execution_count": null,
      "outputs": []
    },
    {
      "cell_type": "code",
      "source": [],
      "metadata": {
        "id": "lAPdo2LMXKFM"
      },
      "execution_count": null,
      "outputs": []
    },
    {
      "cell_type": "code",
      "source": [],
      "metadata": {
        "id": "dcXokUW2XKIM"
      },
      "execution_count": null,
      "outputs": []
    },
    {
      "cell_type": "code",
      "source": [],
      "metadata": {
        "id": "SrTpIZsbXKJq"
      },
      "execution_count": null,
      "outputs": []
    },
    {
      "cell_type": "code",
      "source": [],
      "metadata": {
        "id": "0IdMFCCRXKK6"
      },
      "execution_count": null,
      "outputs": []
    },
    {
      "cell_type": "code",
      "source": [],
      "metadata": {
        "id": "L3tNV-frXKM_"
      },
      "execution_count": null,
      "outputs": []
    },
    {
      "cell_type": "code",
      "source": [],
      "metadata": {
        "id": "L-vdoqZUXKOe"
      },
      "execution_count": null,
      "outputs": []
    },
    {
      "cell_type": "code",
      "source": [],
      "metadata": {
        "id": "7OBRpj9YXKQI"
      },
      "execution_count": null,
      "outputs": []
    },
    {
      "cell_type": "code",
      "source": [],
      "metadata": {
        "id": "Up74MtTyXKRa"
      },
      "execution_count": null,
      "outputs": []
    }
  ]
}