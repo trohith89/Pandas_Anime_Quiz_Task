{
  "cells": [
    {
      "cell_type": "markdown",
      "metadata": {
        "id": "FL1ArpSWOJZk"
      },
      "source": [
        "***Anime Quiz***"
      ]
    },
    {
      "cell_type": "markdown",
      "metadata": {
        "id": "t9hFC7LYPgKT"
      },
      "source": [
        "*** Q5 and Q7(ans correct, but option not present) : Visit again.*italicized text*"
      ]
    },
    {
      "cell_type": "code",
      "execution_count": 123,
      "metadata": {
        "id": "unH9v480N3Hp"
      },
      "outputs": [],
      "source": [
        "# import numpy and pandas\n",
        "import numpy as np\n",
        "import pandas as pd"
      ]
    },
    {
      "cell_type": "code",
      "execution_count": 124,
      "metadata": {
        "id": "NSQn-NYMOcEF"
      },
      "outputs": [],
      "source": [
        "# import csv file\n",
        "df = pd.read_csv('/content/anime-dataset-2023.csv')\n",
        "\n",
        "anime = df.copy()"
      ]
    },
    {
      "cell_type": "code",
      "execution_count": 125,
      "metadata": {
        "id": "f1Kq2poBPmMy"
      },
      "outputs": [],
      "source": [
        "# anime.head()"
      ]
    },
    {
      "cell_type": "code",
      "execution_count": 126,
      "metadata": {
        "id": "wMxbGg73P6SE"
      },
      "outputs": [],
      "source": [
        "# renamin columns\n",
        "anime.columns\n",
        "new_col = [i.lower().replace(' ','_') for i in anime.columns]\n",
        "anime.columns = new_col;"
      ]
    },
    {
      "cell_type": "markdown",
      "metadata": {
        "id": "CMiy2lEwOyjG"
      },
      "source": [
        "Q1. Which anime has the longest synopsis?"
      ]
    },
    {
      "cell_type": "code",
      "execution_count": 127,
      "metadata": {
        "colab": {
          "base_uri": "https://localhost:8080/",
          "height": 115
        },
        "id": "vqKHa3hRPsN0",
        "outputId": "7b1486ab-932b-4890-d512-dc71f064508b"
      },
      "outputs": [
        {
          "output_type": "execute_result",
          "data": {
            "text/plain": [
              "23770    Fangyu Quan Kai\n",
              "Name: name, dtype: object"
            ],
            "text/html": [
              "<div>\n",
              "<style scoped>\n",
              "    .dataframe tbody tr th:only-of-type {\n",
              "        vertical-align: middle;\n",
              "    }\n",
              "\n",
              "    .dataframe tbody tr th {\n",
              "        vertical-align: top;\n",
              "    }\n",
              "\n",
              "    .dataframe thead th {\n",
              "        text-align: right;\n",
              "    }\n",
              "</style>\n",
              "<table border=\"1\" class=\"dataframe\">\n",
              "  <thead>\n",
              "    <tr style=\"text-align: right;\">\n",
              "      <th></th>\n",
              "      <th>name</th>\n",
              "    </tr>\n",
              "  </thead>\n",
              "  <tbody>\n",
              "    <tr>\n",
              "      <th>23770</th>\n",
              "      <td>Fangyu Quan Kai</td>\n",
              "    </tr>\n",
              "  </tbody>\n",
              "</table>\n",
              "</div><br><label><b>dtype:</b> object</label>"
            ]
          },
          "metadata": {},
          "execution_count": 127
        }
      ],
      "source": [
        "# ans 1\n",
        "anime[anime['synopsis'].str.len() == anime['synopsis'].str.len().max()]\n",
        "anime['syn_len'] = anime['synopsis'].str.len()\n",
        "anime[anime['syn_len'] == anime['syn_len'].max()]['name']"
      ]
    },
    {
      "cell_type": "markdown",
      "metadata": {
        "id": "8FreU-fMOyve"
      },
      "source": [
        ":Q2. What is the average score of anime produced by 'Studio Ghibli'?  "
      ]
    },
    {
      "cell_type": "code",
      "execution_count": 128,
      "metadata": {
        "id": "c35-ibauTlLC"
      },
      "outputs": [],
      "source": [
        "# clean score data column\n",
        "anime.score = anime['score'].apply(lambda x : float(x) if x!='UNKNOWN' else np.nan)\n",
        "anime.score = anime.score.astype(float)\n",
        "\n",
        "# ans 2\n",
        "# anime[anime['studios']=='Studio Ghibli'].groupby('studios')['score'].mean()"
      ]
    },
    {
      "cell_type": "code",
      "execution_count": 129,
      "metadata": {
        "colab": {
          "base_uri": "https://localhost:8080/",
          "height": 147
        },
        "id": "JoUC3MmkR37g",
        "outputId": "1ff36b86-a579-4301-c98a-d2e6d564bf52"
      },
      "outputs": [
        {
          "output_type": "execute_result",
          "data": {
            "text/plain": [
              "studios\n",
              "Studio Ghibli    6.822\n",
              "Name: score, dtype: float64"
            ],
            "text/html": [
              "<div>\n",
              "<style scoped>\n",
              "    .dataframe tbody tr th:only-of-type {\n",
              "        vertical-align: middle;\n",
              "    }\n",
              "\n",
              "    .dataframe tbody tr th {\n",
              "        vertical-align: top;\n",
              "    }\n",
              "\n",
              "    .dataframe thead th {\n",
              "        text-align: right;\n",
              "    }\n",
              "</style>\n",
              "<table border=\"1\" class=\"dataframe\">\n",
              "  <thead>\n",
              "    <tr style=\"text-align: right;\">\n",
              "      <th></th>\n",
              "      <th>score</th>\n",
              "    </tr>\n",
              "    <tr>\n",
              "      <th>studios</th>\n",
              "      <th></th>\n",
              "    </tr>\n",
              "  </thead>\n",
              "  <tbody>\n",
              "    <tr>\n",
              "      <th>Studio Ghibli</th>\n",
              "      <td>6.822</td>\n",
              "    </tr>\n",
              "  </tbody>\n",
              "</table>\n",
              "</div><br><label><b>dtype:</b> float64</label>"
            ]
          },
          "metadata": {},
          "execution_count": 129
        }
      ],
      "source": [
        "# ans 2\n",
        "anime[anime['studios']=='Studio Ghibli'].groupby('studios')['score'].mean()"
      ]
    },
    {
      "cell_type": "markdown",
      "metadata": {
        "id": "59R2DQN_Oy52"
      },
      "source": [
        "Q3. How many unique anime titles start with the letter 'A'?"
      ]
    },
    {
      "cell_type": "code",
      "execution_count": 130,
      "metadata": {
        "colab": {
          "base_uri": "https://localhost:8080/"
        },
        "id": "Fg720EMzWQw2",
        "outputId": "ee417c90-da9f-4212-e199-f6a4689d13f9"
      },
      "outputs": [
        {
          "output_type": "execute_result",
          "data": {
            "text/plain": [
              "1208"
            ]
          },
          "metadata": {},
          "execution_count": 130
        }
      ],
      "source": [
        "anime[anime['name'].str.startswith('A')].nunique().loc['name']"
      ]
    },
    {
      "cell_type": "markdown",
      "metadata": {
        "id": "AiHqAfwgOzEk"
      },
      "source": [
        "Q4. Which year has the highest number of anime releases?  \n"
      ]
    },
    {
      "cell_type": "code",
      "execution_count": 131,
      "metadata": {
        "colab": {
          "base_uri": "https://localhost:8080/",
          "height": 147
        },
        "id": "UWNy_og9X01s",
        "outputId": "5f8a38bc-f56f-4ed3-f842-8f4725827fab"
      },
      "outputs": [
        {
          "output_type": "execute_result",
          "data": {
            "text/plain": [
              "premiered\n",
              "2016    280\n",
              "Name: count, dtype: int64"
            ],
            "text/html": [
              "<div>\n",
              "<style scoped>\n",
              "    .dataframe tbody tr th:only-of-type {\n",
              "        vertical-align: middle;\n",
              "    }\n",
              "\n",
              "    .dataframe tbody tr th {\n",
              "        vertical-align: top;\n",
              "    }\n",
              "\n",
              "    .dataframe thead th {\n",
              "        text-align: right;\n",
              "    }\n",
              "</style>\n",
              "<table border=\"1\" class=\"dataframe\">\n",
              "  <thead>\n",
              "    <tr style=\"text-align: right;\">\n",
              "      <th></th>\n",
              "      <th>count</th>\n",
              "    </tr>\n",
              "    <tr>\n",
              "      <th>premiered</th>\n",
              "      <th></th>\n",
              "    </tr>\n",
              "  </thead>\n",
              "  <tbody>\n",
              "    <tr>\n",
              "      <th>2016</th>\n",
              "      <td>280</td>\n",
              "    </tr>\n",
              "  </tbody>\n",
              "</table>\n",
              "</div><br><label><b>dtype:</b> int64</label>"
            ]
          },
          "metadata": {},
          "execution_count": 131
        }
      ],
      "source": [
        "# Year with highest number of anime releases :\n",
        "\n",
        "anime[anime['premiered'] != 'UNKNOWN']['premiered'].str.split(' ').str[-1].value_counts().head(1)"
      ]
    },
    {
      "cell_type": "markdown",
      "metadata": {
        "id": "_xQIzso0OzO8"
      },
      "source": [
        "Q5. Which genre has the highest average number of episodes?  "
      ]
    },
    {
      "cell_type": "code",
      "execution_count": 132,
      "metadata": {
        "id": "eyehWl6He9kd",
        "collapsed": true
      },
      "outputs": [],
      "source": [
        "# clean 'episodes' columns\n",
        "anime.episodes = anime['episodes'].apply(lambda x : float(x) if x!='UNKNOWN' else np.nan)\n",
        "anime.episodes = anime.episodes.astype(float)\n",
        "\n",
        "\n",
        "anime['new_genre'] = anime.genres.str.split(', ')\n"
      ]
    },
    {
      "cell_type": "code",
      "execution_count": 133,
      "metadata": {
        "colab": {
          "base_uri": "https://localhost:8080/",
          "height": 805
        },
        "id": "5meAtsmBgiNE",
        "outputId": "caad50b9-8798-4170-82a9-5a391afb879c"
      },
      "outputs": [
        {
          "output_type": "execute_result",
          "data": {
            "text/plain": [
              "new_genre\n",
              "Adventure        20.253266\n",
              "Gourmet          19.765957\n",
              "Fantasy          19.371193\n",
              "Comedy           18.310996\n",
              "UNKNOWN          17.132075\n",
              "Sports           15.559840\n",
              "Slice of Life    15.327251\n",
              "Action           14.075132\n",
              "Sci-Fi           13.474203\n",
              "Romance          11.081704\n",
              "Supernatural     10.935038\n",
              "Mystery          10.170673\n",
              "Drama             9.556472\n",
              "Suspense          8.432314\n",
              "Horror            8.136106\n",
              "Ecchi             7.868118\n",
              "Girls Love        6.888889\n",
              "Boys Love         6.265060\n",
              "Award Winning     5.741667\n",
              "Erotica           2.444444\n",
              "Hentai            2.301455\n",
              "Avant Garde       1.647940\n",
              "Name: episodes, dtype: float64"
            ],
            "text/html": [
              "<div>\n",
              "<style scoped>\n",
              "    .dataframe tbody tr th:only-of-type {\n",
              "        vertical-align: middle;\n",
              "    }\n",
              "\n",
              "    .dataframe tbody tr th {\n",
              "        vertical-align: top;\n",
              "    }\n",
              "\n",
              "    .dataframe thead th {\n",
              "        text-align: right;\n",
              "    }\n",
              "</style>\n",
              "<table border=\"1\" class=\"dataframe\">\n",
              "  <thead>\n",
              "    <tr style=\"text-align: right;\">\n",
              "      <th></th>\n",
              "      <th>episodes</th>\n",
              "    </tr>\n",
              "    <tr>\n",
              "      <th>new_genre</th>\n",
              "      <th></th>\n",
              "    </tr>\n",
              "  </thead>\n",
              "  <tbody>\n",
              "    <tr>\n",
              "      <th>Adventure</th>\n",
              "      <td>20.253266</td>\n",
              "    </tr>\n",
              "    <tr>\n",
              "      <th>Gourmet</th>\n",
              "      <td>19.765957</td>\n",
              "    </tr>\n",
              "    <tr>\n",
              "      <th>Fantasy</th>\n",
              "      <td>19.371193</td>\n",
              "    </tr>\n",
              "    <tr>\n",
              "      <th>Comedy</th>\n",
              "      <td>18.310996</td>\n",
              "    </tr>\n",
              "    <tr>\n",
              "      <th>UNKNOWN</th>\n",
              "      <td>17.132075</td>\n",
              "    </tr>\n",
              "    <tr>\n",
              "      <th>Sports</th>\n",
              "      <td>15.559840</td>\n",
              "    </tr>\n",
              "    <tr>\n",
              "      <th>Slice of Life</th>\n",
              "      <td>15.327251</td>\n",
              "    </tr>\n",
              "    <tr>\n",
              "      <th>Action</th>\n",
              "      <td>14.075132</td>\n",
              "    </tr>\n",
              "    <tr>\n",
              "      <th>Sci-Fi</th>\n",
              "      <td>13.474203</td>\n",
              "    </tr>\n",
              "    <tr>\n",
              "      <th>Romance</th>\n",
              "      <td>11.081704</td>\n",
              "    </tr>\n",
              "    <tr>\n",
              "      <th>Supernatural</th>\n",
              "      <td>10.935038</td>\n",
              "    </tr>\n",
              "    <tr>\n",
              "      <th>Mystery</th>\n",
              "      <td>10.170673</td>\n",
              "    </tr>\n",
              "    <tr>\n",
              "      <th>Drama</th>\n",
              "      <td>9.556472</td>\n",
              "    </tr>\n",
              "    <tr>\n",
              "      <th>Suspense</th>\n",
              "      <td>8.432314</td>\n",
              "    </tr>\n",
              "    <tr>\n",
              "      <th>Horror</th>\n",
              "      <td>8.136106</td>\n",
              "    </tr>\n",
              "    <tr>\n",
              "      <th>Ecchi</th>\n",
              "      <td>7.868118</td>\n",
              "    </tr>\n",
              "    <tr>\n",
              "      <th>Girls Love</th>\n",
              "      <td>6.888889</td>\n",
              "    </tr>\n",
              "    <tr>\n",
              "      <th>Boys Love</th>\n",
              "      <td>6.265060</td>\n",
              "    </tr>\n",
              "    <tr>\n",
              "      <th>Award Winning</th>\n",
              "      <td>5.741667</td>\n",
              "    </tr>\n",
              "    <tr>\n",
              "      <th>Erotica</th>\n",
              "      <td>2.444444</td>\n",
              "    </tr>\n",
              "    <tr>\n",
              "      <th>Hentai</th>\n",
              "      <td>2.301455</td>\n",
              "    </tr>\n",
              "    <tr>\n",
              "      <th>Avant Garde</th>\n",
              "      <td>1.647940</td>\n",
              "    </tr>\n",
              "  </tbody>\n",
              "</table>\n",
              "</div><br><label><b>dtype:</b> float64</label>"
            ]
          },
          "metadata": {},
          "execution_count": 133
        }
      ],
      "source": [
        "explode_df = anime.explode(column = 'new_genre')\n",
        "\n",
        "explode_df.groupby('new_genre')['episodes'].mean().sort_values(ascending=False)"
      ]
    },
    {
      "cell_type": "markdown",
      "metadata": {
        "id": "qzU0G93WOzZ5"
      },
      "source": [
        "Q6. Which anime has the highest number of members and is rated 'R-17+'?  \n"
      ]
    },
    {
      "cell_type": "code",
      "execution_count": 134,
      "metadata": {
        "colab": {
          "base_uri": "https://localhost:8080/",
          "height": 115
        },
        "id": "PyU_UDE3scKV",
        "outputId": "a65db69d-c63d-4346-fe03-d11a688cb692"
      },
      "outputs": [
        {
          "output_type": "execute_result",
          "data": {
            "text/plain": [
              "7428    Attack on Titan\n",
              "Name: english_name, dtype: object"
            ],
            "text/html": [
              "<div>\n",
              "<style scoped>\n",
              "    .dataframe tbody tr th:only-of-type {\n",
              "        vertical-align: middle;\n",
              "    }\n",
              "\n",
              "    .dataframe tbody tr th {\n",
              "        vertical-align: top;\n",
              "    }\n",
              "\n",
              "    .dataframe thead th {\n",
              "        text-align: right;\n",
              "    }\n",
              "</style>\n",
              "<table border=\"1\" class=\"dataframe\">\n",
              "  <thead>\n",
              "    <tr style=\"text-align: right;\">\n",
              "      <th></th>\n",
              "      <th>english_name</th>\n",
              "    </tr>\n",
              "  </thead>\n",
              "  <tbody>\n",
              "    <tr>\n",
              "      <th>7428</th>\n",
              "      <td>Attack on Titan</td>\n",
              "    </tr>\n",
              "  </tbody>\n",
              "</table>\n",
              "</div><br><label><b>dtype:</b> object</label>"
            ]
          },
          "metadata": {},
          "execution_count": 134
        }
      ],
      "source": [
        "anime['new_rating'] = anime['rating'].str.split(' ').str[0]\n",
        "anime.groupby('rating')['anime_id'].count()\n",
        "anime[anime['new_rating'] == 'R']\n",
        "anime[anime['members'] == anime['members'].max()]['english_name']"
      ]
    },
    {
      "cell_type": "markdown",
      "metadata": {
        "id": "zJevmVz4OzlK"
      },
      "source": [
        "Q7. Which anime has the highest score with less than 1000 members?  \n"
      ]
    },
    {
      "cell_type": "code",
      "execution_count": 135,
      "metadata": {
        "colab": {
          "base_uri": "https://localhost:8080/",
          "height": 147
        },
        "id": "C-a4Ea2vxBT2",
        "outputId": "5de4f8bf-37ce-4b75-f5dc-8ce9f36f8540"
      },
      "outputs": [
        {
          "output_type": "execute_result",
          "data": {
            "text/plain": [
              "anime_id  name    \n",
              "47351     Kaibutsu    7.56\n",
              "Name: score, dtype: float64"
            ],
            "text/html": [
              "<div>\n",
              "<style scoped>\n",
              "    .dataframe tbody tr th:only-of-type {\n",
              "        vertical-align: middle;\n",
              "    }\n",
              "\n",
              "    .dataframe tbody tr th {\n",
              "        vertical-align: top;\n",
              "    }\n",
              "\n",
              "    .dataframe thead th {\n",
              "        text-align: right;\n",
              "    }\n",
              "</style>\n",
              "<table border=\"1\" class=\"dataframe\">\n",
              "  <thead>\n",
              "    <tr style=\"text-align: right;\">\n",
              "      <th></th>\n",
              "      <th></th>\n",
              "      <th>score</th>\n",
              "    </tr>\n",
              "    <tr>\n",
              "      <th>anime_id</th>\n",
              "      <th>name</th>\n",
              "      <th></th>\n",
              "    </tr>\n",
              "  </thead>\n",
              "  <tbody>\n",
              "    <tr>\n",
              "      <th>47351</th>\n",
              "      <th>Kaibutsu</th>\n",
              "      <td>7.56</td>\n",
              "    </tr>\n",
              "  </tbody>\n",
              "</table>\n",
              "</div><br><label><b>dtype:</b> float64</label>"
            ]
          },
          "metadata": {},
          "execution_count": 135
        }
      ],
      "source": [
        "anime[anime['members']<1000].groupby(['anime_id','name'])['score'].max().sort_values(ascending=False).head(1)"
      ]
    },
    {
      "cell_type": "markdown",
      "metadata": {
        "id": "ChwSDmS8Ozxl"
      },
      "source": [
        "Q8. What is the most common Studio for anime released in the summer season?  "
      ]
    },
    {
      "cell_type": "code",
      "execution_count": 136,
      "metadata": {
        "colab": {
          "base_uri": "https://localhost:8080/",
          "height": 272
        },
        "id": "POups33e0IVR",
        "outputId": "cc265d68-a263-4bb2-925c-52e977f84d60"
      },
      "outputs": [
        {
          "output_type": "execute_result",
          "data": {
            "text/plain": [
              "studios\n",
              "UNKNOWN         148\n",
              "J.C.Staff        39\n",
              "Studio Deen      32\n",
              "Madhouse         25\n",
              "A-1 Pictures     21\n",
              "Name: anime_id, dtype: int64"
            ],
            "text/html": [
              "<div>\n",
              "<style scoped>\n",
              "    .dataframe tbody tr th:only-of-type {\n",
              "        vertical-align: middle;\n",
              "    }\n",
              "\n",
              "    .dataframe tbody tr th {\n",
              "        vertical-align: top;\n",
              "    }\n",
              "\n",
              "    .dataframe thead th {\n",
              "        text-align: right;\n",
              "    }\n",
              "</style>\n",
              "<table border=\"1\" class=\"dataframe\">\n",
              "  <thead>\n",
              "    <tr style=\"text-align: right;\">\n",
              "      <th></th>\n",
              "      <th>anime_id</th>\n",
              "    </tr>\n",
              "    <tr>\n",
              "      <th>studios</th>\n",
              "      <th></th>\n",
              "    </tr>\n",
              "  </thead>\n",
              "  <tbody>\n",
              "    <tr>\n",
              "      <th>UNKNOWN</th>\n",
              "      <td>148</td>\n",
              "    </tr>\n",
              "    <tr>\n",
              "      <th>J.C.Staff</th>\n",
              "      <td>39</td>\n",
              "    </tr>\n",
              "    <tr>\n",
              "      <th>Studio Deen</th>\n",
              "      <td>32</td>\n",
              "    </tr>\n",
              "    <tr>\n",
              "      <th>Madhouse</th>\n",
              "      <td>25</td>\n",
              "    </tr>\n",
              "    <tr>\n",
              "      <th>A-1 Pictures</th>\n",
              "      <td>21</td>\n",
              "    </tr>\n",
              "  </tbody>\n",
              "</table>\n",
              "</div><br><label><b>dtype:</b> int64</label>"
            ]
          },
          "metadata": {},
          "execution_count": 136
        }
      ],
      "source": [
        "# clean premiered column\n",
        "anime['season'] = anime['premiered'].str.split(' ').str[0]\n",
        "anime[anime['season'] == 'summer'].groupby('studios')['anime_id'].count().sort_values(ascending=False).head()"
      ]
    },
    {
      "cell_type": "markdown",
      "metadata": {
        "id": "KmIGsYnSOz7L"
      },
      "source": [
        "Q9. What is the top 5 most common genres, including their count?  \n"
      ]
    },
    {
      "cell_type": "code",
      "execution_count": 143,
      "metadata": {
        "colab": {
          "base_uri": "https://localhost:8080/",
          "height": 272
        },
        "id": "b4cphl1z2rNF",
        "outputId": "ef430588-318f-4394-e37a-7bf14cea03b9"
      },
      "outputs": [
        {
          "output_type": "execute_result",
          "data": {
            "text/plain": [
              "new_genre\n",
              "Comedy       7142\n",
              "Fantasy      5306\n",
              "UNKNOWN      4929\n",
              "Action       4730\n",
              "Adventure    3842\n",
              "Name: count, dtype: int64"
            ],
            "text/html": [
              "<div>\n",
              "<style scoped>\n",
              "    .dataframe tbody tr th:only-of-type {\n",
              "        vertical-align: middle;\n",
              "    }\n",
              "\n",
              "    .dataframe tbody tr th {\n",
              "        vertical-align: top;\n",
              "    }\n",
              "\n",
              "    .dataframe thead th {\n",
              "        text-align: right;\n",
              "    }\n",
              "</style>\n",
              "<table border=\"1\" class=\"dataframe\">\n",
              "  <thead>\n",
              "    <tr style=\"text-align: right;\">\n",
              "      <th></th>\n",
              "      <th>count</th>\n",
              "    </tr>\n",
              "    <tr>\n",
              "      <th>new_genre</th>\n",
              "      <th></th>\n",
              "    </tr>\n",
              "  </thead>\n",
              "  <tbody>\n",
              "    <tr>\n",
              "      <th>Comedy</th>\n",
              "      <td>7142</td>\n",
              "    </tr>\n",
              "    <tr>\n",
              "      <th>Fantasy</th>\n",
              "      <td>5306</td>\n",
              "    </tr>\n",
              "    <tr>\n",
              "      <th>UNKNOWN</th>\n",
              "      <td>4929</td>\n",
              "    </tr>\n",
              "    <tr>\n",
              "      <th>Action</th>\n",
              "      <td>4730</td>\n",
              "    </tr>\n",
              "    <tr>\n",
              "      <th>Adventure</th>\n",
              "      <td>3842</td>\n",
              "    </tr>\n",
              "  </tbody>\n",
              "</table>\n",
              "</div><br><label><b>dtype:</b> int64</label>"
            ]
          },
          "metadata": {},
          "execution_count": 143
        }
      ],
      "source": [
        "explode_df['new_genre'].value_counts().head()"
      ]
    },
    {
      "cell_type": "markdown",
      "metadata": {
        "id": "OCo8HoyPO0E2"
      },
      "source": [
        "Q10. What is the correlation between 'Popularity' and 'Favorites'?  \n"
      ]
    },
    {
      "cell_type": "code",
      "execution_count": 138,
      "metadata": {
        "colab": {
          "base_uri": "https://localhost:8080/"
        },
        "id": "hedaUVcY4QAY",
        "outputId": "c71fa31f-2e79-4f13-cc50-99bc2d278972"
      },
      "outputs": [
        {
          "output_type": "execute_result",
          "data": {
            "text/plain": [
              "-0.16317349175869134"
            ]
          },
          "metadata": {},
          "execution_count": 138
        }
      ],
      "source": [
        "anime['popularity'].corr(anime['favorites'])"
      ]
    }
  ],
  "metadata": {
    "colab": {
      "provenance": []
    },
    "kernelspec": {
      "display_name": "Python 3",
      "name": "python3"
    },
    "language_info": {
      "name": "python"
    }
  },
  "nbformat": 4,
  "nbformat_minor": 0
}